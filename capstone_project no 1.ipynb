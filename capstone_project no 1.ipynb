{
    "cells": [
        {
            "cell_type": "code",
            "execution_count": 1,
            "metadata": {},
            "outputs": [],
            "source": "import pandas as pd\nimport numpy as np\nfrom bs4 import BeautifulSoup\nimport requests\nimport csv"
        },
        {
            "cell_type": "markdown",
            "metadata": {},
            "source": "Getting the source webpage\n"
        },
        {
            "cell_type": "code",
            "execution_count": 2,
            "metadata": {},
            "outputs": [],
            "source": "source = requests.get('https://en.wikipedia.org/wiki/List_of_postal_codes_of_Canada:_M').text \nsoup = BeautifulSoup(source, 'lxml')"
        },
        {
            "cell_type": "markdown",
            "metadata": {},
            "source": "Make cs_writer for the data scaped"
        },
        {
            "cell_type": "code",
            "execution_count": 3,
            "metadata": {},
            "outputs": [
                {
                    "data": {
                        "text/plain": "32"
                    },
                    "execution_count": 3,
                    "metadata": {},
                    "output_type": "execute_result"
                }
            ],
            "source": "csv_file = open('toronto_postal_codes.csv', 'w')\ncsv_writer = csv.writer(csv_file)\ncsv_writer.writerow(['Postcode', 'Borough', 'Neighbourhood'])"
        },
        {
            "cell_type": "markdown",
            "metadata": {},
            "source": "Scaping the table in the webpage"
        },
        {
            "cell_type": "code",
            "execution_count": 4,
            "metadata": {},
            "outputs": [],
            "source": "table = soup.find('table', class_ = 'wikitable sortable')\nrows = table.find_all('tr')\n\npostcodes = [] #postcodes list\nboroughs = [] #boroughs list\nneighbourhoods = [] #neighbourhoods list\n\nfor row in rows:    \n    columns = row.find_all('td')\n    try :\n        if columns[1].text != 'Not assigned':  #to ignore cells with a borough that is Not assigned\n            \n            postcode = columns[0].text.split('\\n')[0] #to remove in the end the newline character\n            postcodes.append(postcode)\n            \n            borough = columns[1].text.split('\\n')[0]\n            boroughs.append(borough)\n            \n            neighbourhood = columns[2].text.split('\\n')[0] \n            \n                      \n                \n            neighbourhoods.append(neighbourhood)\n             \n    except Exception as e : #to skip the first row\n        pass \n    \npostcode_explored = [] #explored postcodes list\nfor index_i, postcode_i in enumerate(postcodes) :   \n    if postcode_i not in postcode_explored :\n        nbds = neighbourhoods[index_i]\n        for index_f, postcode_f in enumerate(postcodes) :\n            if postcode_i == postcode_f and index_i != index_f:\n                nbds = nbds + ', ' + neighbourhoods[index_f] #Concat neighbourhood names\n        csv_writer.writerow([postcode_i, boroughs[index_i], nbds]) #Writing the rows on the csv file\n        postcode_explored.append(postcode_i)"
        },
        {
            "cell_type": "markdown",
            "metadata": {},
            "source": "Closing the CSV File"
        },
        {
            "cell_type": "code",
            "execution_count": 5,
            "metadata": {},
            "outputs": [],
            "source": "csv_file.close()"
        },
        {
            "cell_type": "markdown",
            "metadata": {},
            "source": "Laodingthe DATAFRAME"
        },
        {
            "cell_type": "code",
            "execution_count": 6,
            "metadata": {},
            "outputs": [],
            "source": "df = pd.read_csv('toronto_postal_codes.csv')"
        },
        {
            "cell_type": "markdown",
            "metadata": {},
            "source": "Clean the dataframe"
        },
        {
            "cell_type": "code",
            "execution_count": 7,
            "metadata": {},
            "outputs": [
                {
                    "data": {
                        "text/html": "<div>\n<style scoped>\n    .dataframe tbody tr th:only-of-type {\n        vertical-align: middle;\n    }\n\n    .dataframe tbody tr th {\n        vertical-align: top;\n    }\n\n    .dataframe thead th {\n        text-align: right;\n    }\n</style>\n<table border=\"1\" class=\"dataframe\">\n  <thead>\n    <tr style=\"text-align: right;\">\n      <th></th>\n      <th>Postcode</th>\n      <th>Borough</th>\n      <th>Neighbourhood</th>\n    </tr>\n  </thead>\n  <tbody>\n    <tr>\n      <th>2</th>\n      <td>M3A</td>\n      <td>North York</td>\n      <td>Parkwoods</td>\n    </tr>\n    <tr>\n      <th>3</th>\n      <td>M4A</td>\n      <td>North York</td>\n      <td>Victoria Village</td>\n    </tr>\n    <tr>\n      <th>4</th>\n      <td>M5A</td>\n      <td>Downtown Toronto</td>\n      <td>Regent Park / Harbourfront</td>\n    </tr>\n    <tr>\n      <th>5</th>\n      <td>M6A</td>\n      <td>North York</td>\n      <td>Lawrence Manor / Lawrence Heights</td>\n    </tr>\n    <tr>\n      <th>6</th>\n      <td>M7A</td>\n      <td>Downtown Toronto</td>\n      <td>Queen's Park / Ontario Provincial Government</td>\n    </tr>\n    <tr>\n      <th>8</th>\n      <td>M9A</td>\n      <td>Etobicoke</td>\n      <td>Islington Avenue</td>\n    </tr>\n    <tr>\n      <th>9</th>\n      <td>M1B</td>\n      <td>Scarborough</td>\n      <td>Malvern / Rouge</td>\n    </tr>\n    <tr>\n      <th>11</th>\n      <td>M3B</td>\n      <td>North York</td>\n      <td>Don Mills</td>\n    </tr>\n    <tr>\n      <th>12</th>\n      <td>M4B</td>\n      <td>East York</td>\n      <td>Parkview Hill / Woodbine Gardens</td>\n    </tr>\n    <tr>\n      <th>13</th>\n      <td>M5B</td>\n      <td>Downtown Toronto</td>\n      <td>Garden District, Ryerson</td>\n    </tr>\n  </tbody>\n</table>\n</div>",
                        "text/plain": "   Postcode           Borough                                 Neighbourhood\n2       M3A        North York                                     Parkwoods\n3       M4A        North York                              Victoria Village\n4       M5A  Downtown Toronto                    Regent Park / Harbourfront\n5       M6A        North York             Lawrence Manor / Lawrence Heights\n6       M7A  Downtown Toronto  Queen's Park / Ontario Provincial Government\n8       M9A         Etobicoke                              Islington Avenue\n9       M1B       Scarborough                               Malvern / Rouge\n11      M3B        North York                                     Don Mills\n12      M4B         East York              Parkview Hill / Woodbine Gardens\n13      M5B  Downtown Toronto                      Garden District, Ryerson"
                    },
                    "execution_count": 7,
                    "metadata": {},
                    "output_type": "execute_result"
                }
            ],
            "source": "#Drop \"Not Assigned\" Borough\ndf = df[df.Borough != 'Not assigned']\n\n# Replace \"Not Assigned\" Neighbourhood with Borough value\ndf['Neighbourhood'] = df.apply(lambda x: x['Borough'] if x['Neighbourhood']=='Not assigned' else x['Neighbourhood'], axis=1)\ndf.head(10)"
        },
        {
            "cell_type": "markdown",
            "metadata": {},
            "source": "DataFrame Shape"
        },
        {
            "cell_type": "code",
            "execution_count": 8,
            "metadata": {},
            "outputs": [
                {
                    "data": {
                        "text/plain": "(103, 3)"
                    },
                    "execution_count": 8,
                    "metadata": {},
                    "output_type": "execute_result"
                }
            ],
            "source": "df.shape"
        },
        {
            "cell_type": "code",
            "execution_count": null,
            "metadata": {},
            "outputs": [],
            "source": ""
        }
    ],
    "metadata": {
        "kernelspec": {
            "display_name": "Python 3.6",
            "language": "python",
            "name": "python3"
        },
        "language_info": {
            "codemirror_mode": {
                "name": "ipython",
                "version": 3
            },
            "file_extension": ".py",
            "mimetype": "text/x-python",
            "name": "python",
            "nbconvert_exporter": "python",
            "pygments_lexer": "ipython3",
            "version": "3.6.9"
        }
    },
    "nbformat": 4,
    "nbformat_minor": 1
}